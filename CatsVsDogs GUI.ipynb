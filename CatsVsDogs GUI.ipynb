{
 "cells": [
  {
   "cell_type": "code",
   "execution_count": 1,
   "metadata": {
    "scrolled": true
   },
   "outputs": [],
   "source": [
    "import warnings\n",
    "warnings.filterwarnings('ignore')\n",
    "from tkinter import filedialog\n",
    "from tkinter import *\n",
    "import os"
   ]
  },
  {
   "cell_type": "code",
   "execution_count": 2,
   "metadata": {},
   "outputs": [
    {
     "data": {
      "text/plain": [
       "''"
      ]
     },
     "execution_count": 2,
     "metadata": {},
     "output_type": "execute_result"
    }
   ],
   "source": [
    "win = Tk()\n",
    "win.geometry('400x200')\n",
    "win.title(\"Is is a cat or a dog?\")"
   ]
  },
  {
   "cell_type": "markdown",
   "metadata": {},
   "source": [
    "## Labels"
   ]
  },
  {
   "cell_type": "code",
   "execution_count": 3,
   "metadata": {},
   "outputs": [],
   "source": [
    "path_label = Label(win)\n",
    "path_label.pack()"
   ]
  },
  {
   "cell_type": "markdown",
   "metadata": {},
   "source": [
    "## Entry box"
   ]
  },
  {
   "cell_type": "code",
   "execution_count": 4,
   "metadata": {},
   "outputs": [],
   "source": [
    "entry_path_var = StringVar()\n",
    "enter_path = Entry(win,width=30,textvariable=entry_path_var)\n",
    "enter_path.pack()\n",
    "enter_path.focus()"
   ]
  },
  {
   "cell_type": "markdown",
   "metadata": {},
   "source": [
    "## Buttons"
   ]
  },
  {
   "cell_type": "markdown",
   "metadata": {},
   "source": [
    "### Predict Button"
   ]
  },
  {
   "cell_type": "code",
   "execution_count": 5,
   "metadata": {},
   "outputs": [],
   "source": [
    "def submit():\n",
    "    import preprocess_image as pi\n",
    "    import numpy as np\n",
    "    \n",
    "    paths = entry_path_var.get()\n",
    "    paths = paths.split(',')\n",
    "    new_path = []\n",
    "    for path in paths:\n",
    "        # Preprocessing Image\n",
    "        process_img = pi.preprocessing(path)\n",
    "        process_img = process_img.process_image()\n",
    "        if process_img == None:\n",
    "            enter_path.delete(0,END)\n",
    "            return None\n",
    "        else:\n",
    "            new_path.append(process_img)\n",
    "        ## End\n",
    "    \n",
    "    from matplotlib.pyplot import imread\n",
    "    from tensorflow.keras import models\n",
    "    from tkinter import messagebox\n",
    "    import os\n",
    "    \n",
    "    model = models.load_model('CatsVsDogs_model_saved//CatVsDogs.h5')\n",
    "    \n",
    "    no_of_images = len(new_path)\n",
    "    x = np.zeros((no_of_images,300,400,3))\n",
    "    \n",
    "    for count, path in enumerate(new_path):\n",
    "        image = imread(path)\n",
    "        x[count,:,:,:] = image\n",
    "    predict = model.predict(x/255.0)\n",
    "    for count, path in enumerate(new_path):\n",
    "        #if predict[count]==0:\n",
    "        #    app = Window(win)\n",
    "        #    app.image(path)\n",
    "        #    ttk.Label(win,text='CAT').pack()\n",
    "        #    win.geometry(\"50x50\")\n",
    "        #elif predict[count]==1:\n",
    "        #    app = Window(win)\n",
    "        #    app.image(path)\n",
    "        #    ttk.Label(win,text='DOG').pack()\n",
    "        #    win.geometry(\"50x50\")\n",
    "        app = Window(win)\n",
    "        app.image(path)\n",
    "        predicted_cat = predict[count][0]*100\n",
    "        predicted_dog = predict[count][1]*100\n",
    "        Label(win,text='Probability of being a cat = '+str(predicted_cat)+\n",
    "                  '\\nProbability of being a dog ='+str(predicted_dog)).pack()\n",
    "        win.geometry(\"1000x500\")\n",
    "        os.remove(path)\n",
    "    enter_path.delete(0,tk.END)"
   ]
  },
  {
   "cell_type": "code",
   "execution_count": 6,
   "metadata": {},
   "outputs": [],
   "source": [
    "button_path = Button(win,text='Predict',bg = '#3cba54',fg='black',command=submit)\n",
    "button_path.pack()"
   ]
  },
  {
   "cell_type": "markdown",
   "metadata": {},
   "source": [
    "### Browse Button"
   ]
  },
  {
   "cell_type": "code",
   "execution_count": 7,
   "metadata": {},
   "outputs": [],
   "source": [
    "def browse_files():\n",
    "    tk_filenames = filedialog.askopenfilenames(title='Please select one or more files')\n",
    "    paths = ''\n",
    "    for count, filename in enumerate(tk_filenames):\n",
    "        if count ==0:\n",
    "            paths += filename\n",
    "        else:\n",
    "            paths += ',' + filename\n",
    "    entry_path_var.set(paths)"
   ]
  },
  {
   "cell_type": "code",
   "execution_count": 8,
   "metadata": {},
   "outputs": [],
   "source": [
    "button_browse = Button(win,text='Browse files',bg = '#3cba54',fg='black',command=browse_files)\n",
    "button_browse.pack()"
   ]
  },
  {
   "cell_type": "markdown",
   "metadata": {},
   "source": [
    "## Predict Accuracy Button"
   ]
  },
  {
   "cell_type": "code",
   "execution_count": 9,
   "metadata": {
    "scrolled": true
   },
   "outputs": [],
   "source": [
    "def predict_acc():\n",
    "    from tkinter import messagebox\n",
    "    \n",
    "    dir_path = entry_path_var.get()\n",
    "    if dir_path =='':\n",
    "        messagebox.showerror('Error','Please select a path for directory')\n",
    "        enter_path.delete(0,END)\n",
    "        return None\n",
    "    \n",
    "    import preprocess_image as pi\n",
    "    import numpy as np\n",
    "    from tensorflow.keras.preprocessing.image import ImageDataGenerator as IDG\n",
    "    from tensorflow.keras import models\n",
    "    \n",
    "    model = models.load_model('CatsVsDogs_model_saved//CatVsDogs.h5')\n",
    "    \n",
    "    generator = IDG(rescale=1/255.0)\n",
    "    acc_generator = generator.flow_from_directory(dir_path,(300,400),class_mode='binary')\n",
    "    try:\n",
    "        accuracy = model.evaluate_generator(acc_generator)\n",
    "    except:\n",
    "        messagebox.showerror(\"Error\",'Directory does not contains any sub-directories of classes')\n",
    "        enter_path.delete(0,END)\n",
    "        return None\n",
    "    messagebox.showinfo('Accuracy','Accuracy on the data set is : '+str(accuracy[1]*100))\n",
    "    enter_path.delete(0,END)"
   ]
  },
  {
   "cell_type": "code",
   "execution_count": 10,
   "metadata": {},
   "outputs": [],
   "source": [
    "pred_acc_button = Button(win,text='Predict Accuracy',bg = '#f4c20d',fg='black',command=predict_acc)\n",
    "pred_acc_button.pack()"
   ]
  },
  {
   "cell_type": "markdown",
   "metadata": {},
   "source": [
    "## Predict Accuracy Browse Button"
   ]
  },
  {
   "cell_type": "code",
   "execution_count": 11,
   "metadata": {},
   "outputs": [],
   "source": [
    "def browse_dir():\n",
    "    tk_dir_path = filedialog.askdirectory(title='Please open directory which contains sub-directories for cats and dogs labels')\n",
    "    entry_path_var.set(tk_dir_path)"
   ]
  },
  {
   "cell_type": "code",
   "execution_count": 12,
   "metadata": {},
   "outputs": [],
   "source": [
    "button_browse = Button(win,text='Browse directory',bg = '#f4c20d',fg='black',command=browse_dir)\n",
    "button_browse.pack()"
   ]
  },
  {
   "cell_type": "markdown",
   "metadata": {},
   "source": [
    "## Load and Label Images"
   ]
  },
  {
   "cell_type": "code",
   "execution_count": 13,
   "metadata": {},
   "outputs": [],
   "source": [
    "## Copied from https://pythonbasics.org/tkinter-image/\n",
    "from PIL import Image, ImageTk\n",
    "from tkinter import Frame\n",
    "from tkinter import BOTH\n",
    "\n",
    "class Window(Frame):\n",
    "    def __init__(self, master=None):\n",
    "        Frame.__init__(self, master)\n",
    "        self.master = master\n",
    "        self.pack(fill=BOTH, expand=1)\n",
    "        \n",
    "    def image(self,path):\n",
    "        load = Image.open(path)\n",
    "        render = ImageTk.PhotoImage(load)\n",
    "        img = Label(self, image=render)\n",
    "        img.image = render\n",
    "        img.place(x=0, y=0)"
   ]
  },
  {
   "cell_type": "markdown",
   "metadata": {},
   "source": [
    "## Window"
   ]
  },
  {
   "cell_type": "code",
   "execution_count": 14,
   "metadata": {
    "scrolled": true
   },
   "outputs": [
    {
     "name": "stderr",
     "output_type": "stream",
     "text": [
      "Lossy conversion from float64 to uint8. Range [0.0, 255.0]. Convert image to uint8 prior to saving to suppress this warning.\n",
      "Lossy conversion from float64 to uint8. Range [0, 1]. Convert image to uint8 prior to saving to suppress this warning.\n"
     ]
    },
    {
     "name": "stdout",
     "output_type": "stream",
     "text": [
      "WARNING:tensorflow:From /home/kushagra/anaconda3/envs/tensorflow/lib/python3.6/site-packages/tensorflow/python/ops/init_ops.py:97: calling GlorotUniform.__init__ (from tensorflow.python.ops.init_ops) with dtype is deprecated and will be removed in a future version.\n",
      "Instructions for updating:\n",
      "Call initializer instance with the dtype argument instead of passing it to the constructor\n",
      "WARNING:tensorflow:From /home/kushagra/anaconda3/envs/tensorflow/lib/python3.6/site-packages/tensorflow/python/ops/init_ops.py:1251: calling VarianceScaling.__init__ (from tensorflow.python.ops.init_ops) with dtype is deprecated and will be removed in a future version.\n",
      "Instructions for updating:\n",
      "Call initializer instance with the dtype argument instead of passing it to the constructor\n",
      "WARNING:tensorflow:From /home/kushagra/anaconda3/envs/tensorflow/lib/python3.6/site-packages/tensorflow/python/ops/init_ops.py:97: calling Zeros.__init__ (from tensorflow.python.ops.init_ops) with dtype is deprecated and will be removed in a future version.\n",
      "Instructions for updating:\n",
      "Call initializer instance with the dtype argument instead of passing it to the constructor\n"
     ]
    },
    {
     "name": "stderr",
     "output_type": "stream",
     "text": [
      "Exception in Tkinter callback\n",
      "Traceback (most recent call last):\n",
      "  File \"/home/kushagra/anaconda3/envs/tensorflow/lib/python3.6/tkinter/__init__.py\", line 1705, in __call__\n",
      "    return self.func(*args)\n",
      "  File \"<ipython-input-5-850fb1eb6d81>\", line 52, in submit\n",
      "    enter_path.delete(0,tk.END)\n",
      "NameError: name 'tk' is not defined\n"
     ]
    }
   ],
   "source": [
    "win.mainloop()"
   ]
  }
 ],
 "metadata": {
  "kernelspec": {
   "display_name": "Python 3",
   "language": "python",
   "name": "python3"
  },
  "language_info": {
   "codemirror_mode": {
    "name": "ipython",
    "version": 3
   },
   "file_extension": ".py",
   "mimetype": "text/x-python",
   "name": "python",
   "nbconvert_exporter": "python",
   "pygments_lexer": "ipython3",
   "version": "3.7.4"
  }
 },
 "nbformat": 4,
 "nbformat_minor": 2
}
